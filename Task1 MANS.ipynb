{
 "cells": [
  {
   "cell_type": "code",
   "execution_count": 2,
   "id": "c9ff72c2-53e6-4550-95c7-202268746c00",
   "metadata": {},
   "outputs": [],
   "source": [
    "import pandas as pd\n",
    "\n",
    "# To insert the file path \n",
    "\n",
    "df = pd.read_csv(\"KaggleV2-May-2016.csv\")"
   ]
  },
  {
   "cell_type": "code",
   "execution_count": 3,
   "id": "539dc2af-24af-4915-ad6a-f3d23ed81434",
   "metadata": {},
   "outputs": [
    {
     "name": "stdout",
     "output_type": "stream",
     "text": [
      "      PatientId  AppointmentID Gender          ScheduledDay  \\\n",
      "0  2.987250e+13        5642903      F  2016-04-29T18:38:08Z   \n",
      "1  5.589978e+14        5642503      M  2016-04-29T16:08:27Z   \n",
      "2  4.262962e+12        5642549      F  2016-04-29T16:19:04Z   \n",
      "3  8.679512e+11        5642828      F  2016-04-29T17:29:31Z   \n",
      "4  8.841186e+12        5642494      F  2016-04-29T16:07:23Z   \n",
      "\n",
      "         AppointmentDay  Age      Neighbourhood  Scholarship  Hipertension  \\\n",
      "0  2016-04-29T00:00:00Z   62    JARDIM DA PENHA            0             1   \n",
      "1  2016-04-29T00:00:00Z   56    JARDIM DA PENHA            0             0   \n",
      "2  2016-04-29T00:00:00Z   62      MATA DA PRAIA            0             0   \n",
      "3  2016-04-29T00:00:00Z    8  PONTAL DE CAMBURI            0             0   \n",
      "4  2016-04-29T00:00:00Z   56    JARDIM DA PENHA            0             1   \n",
      "\n",
      "   Diabetes  Alcoholism  Handcap  SMS_received No-show  \n",
      "0         0           0        0             0      No  \n",
      "1         0           0        0             0      No  \n",
      "2         0           0        0             0      No  \n",
      "3         0           0        0             0      No  \n",
      "4         1           0        0             0      No  \n"
     ]
    }
   ],
   "source": [
    "# To show the first five rows of Dataset \n",
    "print(df.head())"
   ]
  },
  {
   "cell_type": "code",
   "execution_count": 5,
   "id": "eb918658-a78d-4aa5-9484-ae5df2edb85f",
   "metadata": {},
   "outputs": [
    {
     "name": "stdout",
     "output_type": "stream",
     "text": [
      "<class 'pandas.core.frame.DataFrame'>\n",
      "RangeIndex: 110527 entries, 0 to 110526\n",
      "Data columns (total 14 columns):\n",
      " #   Column          Non-Null Count   Dtype  \n",
      "---  ------          --------------   -----  \n",
      " 0   PatientId       110527 non-null  float64\n",
      " 1   AppointmentID   110527 non-null  int64  \n",
      " 2   Gender          110527 non-null  object \n",
      " 3   ScheduledDay    110527 non-null  object \n",
      " 4   AppointmentDay  110527 non-null  object \n",
      " 5   Age             110527 non-null  int64  \n",
      " 6   Neighbourhood   110527 non-null  object \n",
      " 7   Scholarship     110527 non-null  int64  \n",
      " 8   Hipertension    110527 non-null  int64  \n",
      " 9   Diabetes        110527 non-null  int64  \n",
      " 10  Alcoholism      110527 non-null  int64  \n",
      " 11  Handcap         110527 non-null  int64  \n",
      " 12  SMS_received    110527 non-null  int64  \n",
      " 13  No-show         110527 non-null  object \n",
      "dtypes: float64(1), int64(8), object(5)\n",
      "memory usage: 11.8+ MB\n",
      "None\n"
     ]
    }
   ],
   "source": [
    "# To show the summary info of Dataset \n",
    "print(df.info())"
   ]
  },
  {
   "cell_type": "code",
   "execution_count": 6,
   "id": "646dc267-833a-49b5-85a7-68d929e6a339",
   "metadata": {},
   "outputs": [
    {
     "name": "stdout",
     "output_type": "stream",
     "text": [
      "['patientid', 'appointmentid', 'gender', 'scheduledday', 'appointmentday', 'age', 'neighbourhood', 'scholarship', 'hipertension', 'diabetes', 'alcoholism', 'handcap', 'sms_received', 'no-show']\n"
     ]
    }
   ],
   "source": [
    "# To convert the all column names in lowercase \n",
    "df.columns = df.columns.str.lower()\n",
    "print(list(df.columns))\n"
   ]
  },
  {
   "cell_type": "code",
   "execution_count": 7,
   "id": "7c98e5e9-2601-4d3c-a0b2-f2b0590d26ee",
   "metadata": {},
   "outputs": [
    {
     "name": "stdout",
     "output_type": "stream",
     "text": [
      "['patientid', 'appointmentid', 'gender', 'scheduledday', 'appointmentday', 'age', 'neighbourhood', 'scholarship', 'hipertension', 'diabetes', 'alcoholism', 'handcap', 'sms_received', 'no-show']\n"
     ]
    }
   ],
   "source": [
    "# To remove the extra space from the column name \n",
    "df.columns = df.columns.str.strip()\n",
    "print(list(df.columns))\n"
   ]
  },
  {
   "cell_type": "code",
   "execution_count": 8,
   "id": "60acc566-1481-4bd4-b6a8-c9bb4aee2c76",
   "metadata": {},
   "outputs": [
    {
     "name": "stdout",
     "output_type": "stream",
     "text": [
      "['patientid', 'appointmentid', 'gender', 'scheduledday', 'appointmentday', 'age', 'neighbourhood', 'scholarship', 'hipertension', 'diabetes', 'alcoholism', 'handcap', 'sms_received', 'no_show']\n"
     ]
    }
   ],
   "source": [
    "# To replace the hyphen from underscore \n",
    "df.columns = df.columns.str.replace('-', '_')\n",
    "print(list(df.columns))\n"
   ]
  },
  {
   "cell_type": "code",
   "execution_count": 9,
   "id": "2a706004-2bb7-4f22-a80f-8d642c7cdac2",
   "metadata": {},
   "outputs": [
    {
     "name": "stdout",
     "output_type": "stream",
     "text": [
      "['patientid', 'appointmentid', 'gender', 'scheduledday', 'appointmentday', 'age', 'neighbourhood', 'scholarship', 'hipertension', 'diabetes', 'alcoholism', 'handcap', 'sms_received', 'no_show']\n"
     ]
    }
   ],
   "source": [
    "# To replace the space form underscore \n",
    "df.columns = df.columns.str.replace(' ', '_')\n",
    "print(list(df.columns))\n"
   ]
  },
  {
   "cell_type": "code",
   "execution_count": 10,
   "id": "97f1d80b-9511-4d94-9579-324926d08b85",
   "metadata": {},
   "outputs": [
    {
     "name": "stdout",
     "output_type": "stream",
     "text": [
      "['patientid', 'appointmentid', 'gender', 'scheduledday', 'appointmentday', 'age', 'neighbourhood', 'scholarship', 'hypertension', 'diabetes', 'alcoholism', 'handicap', 'sms_received', 'no_show']\n"
     ]
    }
   ],
   "source": [
    "# To rename the column \n",
    "df = df.rename(columns={\n",
    "    'hipertension': 'hypertension',\n",
    "    'handcap': 'handicap'\n",
    "})\n",
    "\n",
    "print(list(df.columns))\n"
   ]
  },
  {
   "cell_type": "code",
   "execution_count": 11,
   "id": "0a707f17-9aa9-419d-8c3d-1a51976b99f9",
   "metadata": {},
   "outputs": [
    {
     "name": "stdout",
     "output_type": "stream",
     "text": [
      "scheduledday      object\n",
      "appointmentday    object\n",
      "dtype: object\n"
     ]
    }
   ],
   "source": [
    "# To check the data type of the column \n",
    "print(df[['scheduledday', 'appointmentday']].dtypes)\n"
   ]
  },
  {
   "cell_type": "code",
   "execution_count": 13,
   "id": "fbc3ea85-e9f2-4c0a-a7aa-5fceb31989ad",
   "metadata": {},
   "outputs": [
    {
     "name": "stdout",
     "output_type": "stream",
     "text": [
      "scheduledday      datetime64[ns, UTC]\n",
      "appointmentday    datetime64[ns, UTC]\n",
      "dtype: object\n"
     ]
    }
   ],
   "source": [
    "# To change the data type \n",
    "df['scheduledday'] = pd.to_datetime(df['scheduledday'])\n",
    "df['appointmentday'] = pd.to_datetime(df['appointmentday'])\n",
    "\n",
    "print(df[['scheduledday', 'appointmentday']].dtypes)\n"
   ]
  },
  {
   "cell_type": "code",
   "execution_count": 14,
   "id": "ddb59848-e5b0-4cfa-a22e-82c46a47c28b",
   "metadata": {},
   "outputs": [
    {
     "name": "stdout",
     "output_type": "stream",
     "text": [
      "scheduledday      datetime64[ns]\n",
      "appointmentday    datetime64[ns]\n",
      "dtype: object\n"
     ]
    }
   ],
   "source": [
    "# To remove the timezone \n",
    "df['scheduledday'] = df['scheduledday'].dt.tz_localize(None)\n",
    "df['appointmentday'] = df['appointmentday'].dt.tz_localize(None)\n",
    "\n",
    "print(df[['scheduledday', 'appointmentday']].dtypes)\n"
   ]
  },
  {
   "cell_type": "code",
   "execution_count": 18,
   "id": "f32b8f67-fe4d-4ab5-b5f1-0d16f3a24c3f",
   "metadata": {},
   "outputs": [
    {
     "name": "stdout",
     "output_type": "stream",
     "text": [
      "Index(['patientid', 'appointmentid', 'gender', 'scheduledday',\n",
      "       'appointmentday', 'age', 'neighbourhood', 'scholarship', 'hypertension',\n",
      "       'diabetes', 'alcoholism', 'handicap', 'sms_received', 'no_show'],\n",
      "      dtype='object')\n",
      "scheduledday      datetime64[ns]\n",
      "appointmentday    datetime64[ns]\n",
      "dtype: object\n",
      "         scheduledday appointmentday\n",
      "0 2016-04-29 18:38:08     2016-04-29\n",
      "1 2016-04-29 16:08:27     2016-04-29\n",
      "2 2016-04-29 16:19:04     2016-04-29\n",
      "3 2016-04-29 17:29:31     2016-04-29\n",
      "4 2016-04-29 16:07:23     2016-04-29\n",
      "scheduledday      0\n",
      "appointmentday    0\n",
      "dtype: int64\n"
     ]
    }
   ],
   "source": [
    "# To check the changes \n",
    "print(df.columns)\n",
    "print(df[['scheduledday', 'appointmentday']].dtypes)\n",
    "print(df[['scheduledday', 'appointmentday']].head())\n",
    "print(df[['scheduledday', 'appointmentday']].isna().sum())\n"
   ]
  },
  {
   "cell_type": "code",
   "execution_count": 19,
   "id": "6bc784c7-70d5-4b54-a6ca-08c24212640e",
   "metadata": {},
   "outputs": [
    {
     "name": "stdout",
     "output_type": "stream",
     "text": [
      "count    110527.000000\n",
      "mean         37.088874\n",
      "std          23.110205\n",
      "min          -1.000000\n",
      "25%          18.000000\n",
      "50%          37.000000\n",
      "75%          55.000000\n",
      "max         115.000000\n",
      "Name: age, dtype: float64\n",
      "[62 56  8 76 23 39 21 19 30 29 22 28 54 15 50 40 46  4 13 65]\n"
     ]
    }
   ],
   "source": [
    "# To check the Age distribution \n",
    "print(df['age'].describe())\n",
    "print(df['age'].unique()[:20])  "
   ]
  },
  {
   "cell_type": "code",
   "execution_count": 20,
   "id": "9844c0d8-6071-4d0b-a7a3-c939df7176fd",
   "metadata": {},
   "outputs": [
    {
     "name": "stdout",
     "output_type": "stream",
     "text": [
      "count    110519.000000\n",
      "mean         37.084519\n",
      "std          23.103165\n",
      "min           0.000000\n",
      "25%          18.000000\n",
      "50%          37.000000\n",
      "75%          55.000000\n",
      "max         100.000000\n",
      "Name: age, dtype: float64\n"
     ]
    }
   ],
   "source": [
    "# remove unrealistic ages\n",
    "df = df[(df['age'] >= 0) & (df['age'] <= 100)]\n",
    "\n",
    "# check again\n",
    "print(df['age'].describe())\n"
   ]
  },
  {
   "cell_type": "code",
   "execution_count": 21,
   "id": "d4880100-5cb8-418d-b9e5-98b3274164d2",
   "metadata": {},
   "outputs": [
    {
     "name": "stdout",
     "output_type": "stream",
     "text": [
      "Total duplicate rows: 0\n"
     ]
    }
   ],
   "source": [
    "# check duplicate rows\n",
    "print(\"Total duplicate rows:\", df.duplicated().sum())\n"
   ]
  },
  {
   "cell_type": "code",
   "execution_count": 22,
   "id": "62f98bfb-8981-4f4a-8d59-d622c6900d4f",
   "metadata": {},
   "outputs": [
    {
     "name": "stdout",
     "output_type": "stream",
     "text": [
      "['F' 'M']\n"
     ]
    }
   ],
   "source": [
    "# To check the gender column \n",
    "print(df['gender'].unique())\n"
   ]
  },
  {
   "cell_type": "code",
   "execution_count": 23,
   "id": "0072b755-55a5-46f7-941b-bb10962307e9",
   "metadata": {},
   "outputs": [
    {
     "name": "stdout",
     "output_type": "stream",
     "text": [
      "['Female' 'Male']\n"
     ]
    }
   ],
   "source": [
    "# Gender standardization \n",
    "df['gender'] = df['gender'].replace({'F': 'Female', 'M': 'Male'})\n",
    "print(df['gender'].unique())\n"
   ]
  },
  {
   "cell_type": "code",
   "execution_count": 24,
   "id": "acf6c930-b2fe-42a3-a461-c4729302981d",
   "metadata": {},
   "outputs": [
    {
     "name": "stdout",
     "output_type": "stream",
     "text": [
      "['Showed Up' 'No Show']\n"
     ]
    }
   ],
   "source": [
    "# Column standardization \n",
    "df['no_show'] = df['no_show'].replace({'No': 'Showed Up', 'Yes': 'No Show'})\n",
    "print(df['no_show'].unique())\n"
   ]
  },
  {
   "cell_type": "code",
   "execution_count": 26,
   "id": "3dc6e0ce-b656-4ee8-9eed-a070719154d8",
   "metadata": {},
   "outputs": [
    {
     "name": "stdout",
     "output_type": "stream",
     "text": [
      "scholarship unique values: [0 1]\n",
      "hypertension unique values: [1 0]\n",
      "diabetes unique values: [0 1]\n",
      "alcoholism unique values: [0 1]\n",
      "handicap unique values: [0 1 2 3 4]\n",
      "sms_received unique values: [0 1]\n"
     ]
    }
   ],
   "source": [
    "binary_cols = ['scholarship', 'hypertension', 'diabetes', 'alcoholism', 'handicap', 'sms_received']\n",
    "\n",
    "for col in binary_cols:\n",
    "    print(f\"{col} unique values: {df[col].unique()}\")\n"
   ]
  },
  {
   "cell_type": "code",
   "execution_count": 28,
   "id": "1ad8c2d0-5222-439b-9e61-8d0a29753583",
   "metadata": {},
   "outputs": [
    {
     "name": "stdout",
     "output_type": "stream",
     "text": [
      "[0 1]\n"
     ]
    }
   ],
   "source": [
    "# agar value >0 ho to 1 set karo, else 0\n",
    "df['handicap'] = df['handicap'].apply(lambda x: 1 if x>0 else 0)\n",
    "\n",
    "# check again\n",
    "print(df['handicap'].unique())\n"
   ]
  },
  {
   "cell_type": "code",
   "execution_count": 29,
   "id": "ec63f4cc-6d9f-4fe9-ad48-00eae3c8eec8",
   "metadata": {},
   "outputs": [
    {
     "name": "stdout",
     "output_type": "stream",
     "text": [
      "Neighbourhood sample values: ['JARDIM DA PENHA' 'MATA DA PRAIA' 'PONTAL DE CAMBURI' 'REPÚBLICA'\n",
      " 'GOIABEIRAS' 'ANDORINHAS' 'CONQUISTA' 'NOVA PALESTINA' 'DA PENHA'\n",
      " 'TABUAZEIRO' 'BENTO FERREIRA' 'SÃO PEDRO' 'SANTA MARTHA' 'SÃO CRISTÓVÃO'\n",
      " 'MARUÍPE' 'GRANDE VITÓRIA' 'SÃO BENEDITO' 'ILHA DAS CAIEIRAS'\n",
      " 'SANTO ANDRÉ' 'SOLON BORGES']\n"
     ]
    }
   ],
   "source": [
    "#\n",
    "print(\"Neighbourhood sample values:\", df['neighbourhood'].unique()[:20])\n"
   ]
  },
  {
   "cell_type": "code",
   "execution_count": 30,
   "id": "a476ace8-ef22-42ff-86e8-d0689f19a93d",
   "metadata": {},
   "outputs": [
    {
     "name": "stdout",
     "output_type": "stream",
     "text": [
      "['jardim da penha' 'mata da praia' 'pontal de camburi' 'república'\n",
      " 'goiabeiras' 'andorinhas' 'conquista' 'nova palestina' 'da penha'\n",
      " 'tabuazeiro' 'bento ferreira' 'são pedro' 'santa martha' 'são cristóvão'\n",
      " 'maruípe' 'grande vitória' 'são benedito' 'ilha das caieiras'\n",
      " 'santo andré' 'solon borges']\n"
     ]
    }
   ],
   "source": [
    "# lowercase + strip spaces\n",
    "df['neighbourhood'] = df['neighbourhood'].str.lower().str.strip()\n",
    "\n",
    "# check sample values\n",
    "print(df['neighbourhood'].unique()[:20])\n"
   ]
  },
  {
   "cell_type": "code",
   "execution_count": 31,
   "id": "674a3d00-45f0-4463-8faf-5d559c7babd1",
   "metadata": {},
   "outputs": [
    {
     "name": "stdout",
     "output_type": "stream",
     "text": [
      "['jardim da penha' 'mata da praia' 'pontal de camburi' 'republica'\n",
      " 'goiabeiras' 'andorinhas' 'conquista' 'nova palestina' 'da penha'\n",
      " 'tabuazeiro' 'bento ferreira' 'sao pedro' 'santa martha' 'sao cristovao'\n",
      " 'maruipe' 'grande vitoria' 'sao benedito' 'ilha das caieiras'\n",
      " 'santo andre' 'solon borges']\n"
     ]
    }
   ],
   "source": [
    "import unidecode\n",
    "\n",
    "df['neighbourhood'] = df['neighbourhood'].apply(lambda x: unidecode.unidecode(x))\n",
    "\n",
    "# check again\n",
    "print(df['neighbourhood'].unique()[:20])\n"
   ]
  },
  {
   "cell_type": "code",
   "execution_count": 32,
   "id": "e1df5ebb-029c-4332-aa30-2f85279bfca8",
   "metadata": {},
   "outputs": [
    {
     "name": "stdout",
     "output_type": "stream",
     "text": [
      "no_show                      no_show_percentage\n",
      "neighbourhood                                  \n",
      "ilhas oceanicas de trindade          100.000000\n",
      "santos dumont                         28.918495\n",
      "santa cecilia                         27.455357\n",
      "santa clara                           26.482213\n",
      "itarare                               26.266363\n"
     ]
    }
   ],
   "source": [
    "# Group by neighbourhood aur count no_show\n",
    "no_show_by_area = df.groupby('neighbourhood')['no_show'].value_counts().unstack().fillna(0)\n",
    "\n",
    "# Percentage of no-show per neighbourhood\n",
    "no_show_by_area['total'] = no_show_by_area.sum(axis=1)\n",
    "no_show_by_area['no_show_percentage'] = (no_show_by_area['No Show'] / no_show_by_area['total']) * 100\n",
    "\n",
    "# Top 5 areas with highest no-show percentage\n",
    "top_no_show_areas = no_show_by_area.sort_values(by='no_show_percentage', ascending=False).head(5)\n",
    "print(top_no_show_areas[['no_show_percentage']])\n"
   ]
  },
  {
   "cell_type": "code",
   "execution_count": 38,
   "id": "0ff60ce3-d23d-47a0-9aec-eafad5b9c71b",
   "metadata": {},
   "outputs": [
    {
     "data": {
      "text/html": [
       "<div>\n",
       "<style scoped>\n",
       "    .dataframe tbody tr th:only-of-type {\n",
       "        vertical-align: middle;\n",
       "    }\n",
       "\n",
       "    .dataframe tbody tr th {\n",
       "        vertical-align: top;\n",
       "    }\n",
       "\n",
       "    .dataframe thead th {\n",
       "        text-align: right;\n",
       "    }\n",
       "</style>\n",
       "<table border=\"1\" class=\"dataframe\">\n",
       "  <thead>\n",
       "    <tr style=\"text-align: right;\">\n",
       "      <th></th>\n",
       "      <th>patientid</th>\n",
       "      <th>appointmentid</th>\n",
       "      <th>gender</th>\n",
       "      <th>scheduledday</th>\n",
       "      <th>appointmentday</th>\n",
       "      <th>age</th>\n",
       "      <th>neighbourhood</th>\n",
       "      <th>scholarship</th>\n",
       "      <th>hypertension</th>\n",
       "      <th>diabetes</th>\n",
       "      <th>alcoholism</th>\n",
       "      <th>handicap</th>\n",
       "      <th>sms_received</th>\n",
       "      <th>no_show</th>\n",
       "    </tr>\n",
       "  </thead>\n",
       "  <tbody>\n",
       "    <tr>\n",
       "      <th>0</th>\n",
       "      <td>2.987250e+13</td>\n",
       "      <td>5642903</td>\n",
       "      <td>Female</td>\n",
       "      <td>2016-04-29 18:38:08</td>\n",
       "      <td>2016-04-29</td>\n",
       "      <td>62</td>\n",
       "      <td>jardim da penha</td>\n",
       "      <td>0</td>\n",
       "      <td>1</td>\n",
       "      <td>0</td>\n",
       "      <td>0</td>\n",
       "      <td>0</td>\n",
       "      <td>0</td>\n",
       "      <td>Showed Up</td>\n",
       "    </tr>\n",
       "    <tr>\n",
       "      <th>1</th>\n",
       "      <td>5.589978e+14</td>\n",
       "      <td>5642503</td>\n",
       "      <td>Male</td>\n",
       "      <td>2016-04-29 16:08:27</td>\n",
       "      <td>2016-04-29</td>\n",
       "      <td>56</td>\n",
       "      <td>jardim da penha</td>\n",
       "      <td>0</td>\n",
       "      <td>0</td>\n",
       "      <td>0</td>\n",
       "      <td>0</td>\n",
       "      <td>0</td>\n",
       "      <td>0</td>\n",
       "      <td>Showed Up</td>\n",
       "    </tr>\n",
       "    <tr>\n",
       "      <th>2</th>\n",
       "      <td>4.262962e+12</td>\n",
       "      <td>5642549</td>\n",
       "      <td>Female</td>\n",
       "      <td>2016-04-29 16:19:04</td>\n",
       "      <td>2016-04-29</td>\n",
       "      <td>62</td>\n",
       "      <td>mata da praia</td>\n",
       "      <td>0</td>\n",
       "      <td>0</td>\n",
       "      <td>0</td>\n",
       "      <td>0</td>\n",
       "      <td>0</td>\n",
       "      <td>0</td>\n",
       "      <td>Showed Up</td>\n",
       "    </tr>\n",
       "    <tr>\n",
       "      <th>3</th>\n",
       "      <td>8.679512e+11</td>\n",
       "      <td>5642828</td>\n",
       "      <td>Female</td>\n",
       "      <td>2016-04-29 17:29:31</td>\n",
       "      <td>2016-04-29</td>\n",
       "      <td>8</td>\n",
       "      <td>pontal de camburi</td>\n",
       "      <td>0</td>\n",
       "      <td>0</td>\n",
       "      <td>0</td>\n",
       "      <td>0</td>\n",
       "      <td>0</td>\n",
       "      <td>0</td>\n",
       "      <td>Showed Up</td>\n",
       "    </tr>\n",
       "    <tr>\n",
       "      <th>4</th>\n",
       "      <td>8.841186e+12</td>\n",
       "      <td>5642494</td>\n",
       "      <td>Female</td>\n",
       "      <td>2016-04-29 16:07:23</td>\n",
       "      <td>2016-04-29</td>\n",
       "      <td>56</td>\n",
       "      <td>jardim da penha</td>\n",
       "      <td>0</td>\n",
       "      <td>1</td>\n",
       "      <td>1</td>\n",
       "      <td>0</td>\n",
       "      <td>0</td>\n",
       "      <td>0</td>\n",
       "      <td>Showed Up</td>\n",
       "    </tr>\n",
       "  </tbody>\n",
       "</table>\n",
       "</div>"
      ],
      "text/plain": [
       "      patientid  appointmentid  gender        scheduledday appointmentday  \\\n",
       "0  2.987250e+13        5642903  Female 2016-04-29 18:38:08     2016-04-29   \n",
       "1  5.589978e+14        5642503    Male 2016-04-29 16:08:27     2016-04-29   \n",
       "2  4.262962e+12        5642549  Female 2016-04-29 16:19:04     2016-04-29   \n",
       "3  8.679512e+11        5642828  Female 2016-04-29 17:29:31     2016-04-29   \n",
       "4  8.841186e+12        5642494  Female 2016-04-29 16:07:23     2016-04-29   \n",
       "\n",
       "   age      neighbourhood  scholarship  hypertension  diabetes  alcoholism  \\\n",
       "0   62    jardim da penha            0             1         0           0   \n",
       "1   56    jardim da penha            0             0         0           0   \n",
       "2   62      mata da praia            0             0         0           0   \n",
       "3    8  pontal de camburi            0             0         0           0   \n",
       "4   56    jardim da penha            0             1         1           0   \n",
       "\n",
       "   handicap  sms_received    no_show  \n",
       "0         0             0  Showed Up  \n",
       "1         0             0  Showed Up  \n",
       "2         0             0  Showed Up  \n",
       "3         0             0  Showed Up  \n",
       "4         0             0  Showed Up  "
      ]
     },
     "execution_count": 38,
     "metadata": {},
     "output_type": "execute_result"
    }
   ],
   "source": [
    "df.head(5)"
   ]
  },
  {
   "cell_type": "code",
   "execution_count": 36,
   "id": "51c2247b-45e9-464e-8368-0839b51b7c22",
   "metadata": {},
   "outputs": [
    {
     "data": {
      "text/html": [
       "<div>\n",
       "<style scoped>\n",
       "    .dataframe tbody tr th:only-of-type {\n",
       "        vertical-align: middle;\n",
       "    }\n",
       "\n",
       "    .dataframe tbody tr th {\n",
       "        vertical-align: top;\n",
       "    }\n",
       "\n",
       "    .dataframe thead th {\n",
       "        text-align: right;\n",
       "    }\n",
       "</style>\n",
       "<table border=\"1\" class=\"dataframe\">\n",
       "  <thead>\n",
       "    <tr style=\"text-align: right;\">\n",
       "      <th></th>\n",
       "      <th>patientid</th>\n",
       "      <th>appointmentid</th>\n",
       "      <th>scheduledday</th>\n",
       "      <th>appointmentday</th>\n",
       "      <th>age</th>\n",
       "      <th>scholarship</th>\n",
       "      <th>hypertension</th>\n",
       "      <th>diabetes</th>\n",
       "      <th>alcoholism</th>\n",
       "      <th>handicap</th>\n",
       "      <th>sms_received</th>\n",
       "    </tr>\n",
       "  </thead>\n",
       "  <tbody>\n",
       "    <tr>\n",
       "      <th>count</th>\n",
       "      <td>1.105190e+05</td>\n",
       "      <td>1.105190e+05</td>\n",
       "      <td>110519</td>\n",
       "      <td>110519</td>\n",
       "      <td>110519.000000</td>\n",
       "      <td>110519.000000</td>\n",
       "      <td>110519.000000</td>\n",
       "      <td>110519.000000</td>\n",
       "      <td>110519.000000</td>\n",
       "      <td>110519.000000</td>\n",
       "      <td>110519.000000</td>\n",
       "    </tr>\n",
       "    <tr>\n",
       "      <th>mean</th>\n",
       "      <td>1.474860e+14</td>\n",
       "      <td>5.675303e+06</td>\n",
       "      <td>2016-05-09 07:48:29.957509632</td>\n",
       "      <td>2016-05-19 00:57:19.770537472</td>\n",
       "      <td>37.084519</td>\n",
       "      <td>0.098273</td>\n",
       "      <td>0.197251</td>\n",
       "      <td>0.071870</td>\n",
       "      <td>0.030402</td>\n",
       "      <td>0.020241</td>\n",
       "      <td>0.321040</td>\n",
       "    </tr>\n",
       "    <tr>\n",
       "      <th>min</th>\n",
       "      <td>3.921784e+04</td>\n",
       "      <td>5.030230e+06</td>\n",
       "      <td>2015-11-10 07:13:56</td>\n",
       "      <td>2016-04-29 00:00:00</td>\n",
       "      <td>0.000000</td>\n",
       "      <td>0.000000</td>\n",
       "      <td>0.000000</td>\n",
       "      <td>0.000000</td>\n",
       "      <td>0.000000</td>\n",
       "      <td>0.000000</td>\n",
       "      <td>0.000000</td>\n",
       "    </tr>\n",
       "    <tr>\n",
       "      <th>25%</th>\n",
       "      <td>4.172457e+12</td>\n",
       "      <td>5.640284e+06</td>\n",
       "      <td>2016-04-29 10:26:56</td>\n",
       "      <td>2016-05-09 00:00:00</td>\n",
       "      <td>18.000000</td>\n",
       "      <td>0.000000</td>\n",
       "      <td>0.000000</td>\n",
       "      <td>0.000000</td>\n",
       "      <td>0.000000</td>\n",
       "      <td>0.000000</td>\n",
       "      <td>0.000000</td>\n",
       "    </tr>\n",
       "    <tr>\n",
       "      <th>50%</th>\n",
       "      <td>3.172598e+13</td>\n",
       "      <td>5.680569e+06</td>\n",
       "      <td>2016-05-10 12:12:35</td>\n",
       "      <td>2016-05-18 00:00:00</td>\n",
       "      <td>37.000000</td>\n",
       "      <td>0.000000</td>\n",
       "      <td>0.000000</td>\n",
       "      <td>0.000000</td>\n",
       "      <td>0.000000</td>\n",
       "      <td>0.000000</td>\n",
       "      <td>0.000000</td>\n",
       "    </tr>\n",
       "    <tr>\n",
       "      <th>75%</th>\n",
       "      <td>9.438963e+13</td>\n",
       "      <td>5.725522e+06</td>\n",
       "      <td>2016-05-20 11:18:25.500000</td>\n",
       "      <td>2016-05-31 00:00:00</td>\n",
       "      <td>55.000000</td>\n",
       "      <td>0.000000</td>\n",
       "      <td>0.000000</td>\n",
       "      <td>0.000000</td>\n",
       "      <td>0.000000</td>\n",
       "      <td>0.000000</td>\n",
       "      <td>1.000000</td>\n",
       "    </tr>\n",
       "    <tr>\n",
       "      <th>max</th>\n",
       "      <td>9.999816e+14</td>\n",
       "      <td>5.790484e+06</td>\n",
       "      <td>2016-06-08 20:07:23</td>\n",
       "      <td>2016-06-08 00:00:00</td>\n",
       "      <td>100.000000</td>\n",
       "      <td>1.000000</td>\n",
       "      <td>1.000000</td>\n",
       "      <td>1.000000</td>\n",
       "      <td>1.000000</td>\n",
       "      <td>1.000000</td>\n",
       "      <td>1.000000</td>\n",
       "    </tr>\n",
       "    <tr>\n",
       "      <th>std</th>\n",
       "      <td>2.560826e+14</td>\n",
       "      <td>7.129600e+04</td>\n",
       "      <td>NaN</td>\n",
       "      <td>NaN</td>\n",
       "      <td>23.103165</td>\n",
       "      <td>0.297684</td>\n",
       "      <td>0.397925</td>\n",
       "      <td>0.258274</td>\n",
       "      <td>0.171692</td>\n",
       "      <td>0.140824</td>\n",
       "      <td>0.466878</td>\n",
       "    </tr>\n",
       "  </tbody>\n",
       "</table>\n",
       "</div>"
      ],
      "text/plain": [
       "          patientid  appointmentid                   scheduledday  \\\n",
       "count  1.105190e+05   1.105190e+05                         110519   \n",
       "mean   1.474860e+14   5.675303e+06  2016-05-09 07:48:29.957509632   \n",
       "min    3.921784e+04   5.030230e+06            2015-11-10 07:13:56   \n",
       "25%    4.172457e+12   5.640284e+06            2016-04-29 10:26:56   \n",
       "50%    3.172598e+13   5.680569e+06            2016-05-10 12:12:35   \n",
       "75%    9.438963e+13   5.725522e+06     2016-05-20 11:18:25.500000   \n",
       "max    9.999816e+14   5.790484e+06            2016-06-08 20:07:23   \n",
       "std    2.560826e+14   7.129600e+04                            NaN   \n",
       "\n",
       "                      appointmentday            age    scholarship  \\\n",
       "count                         110519  110519.000000  110519.000000   \n",
       "mean   2016-05-19 00:57:19.770537472      37.084519       0.098273   \n",
       "min              2016-04-29 00:00:00       0.000000       0.000000   \n",
       "25%              2016-05-09 00:00:00      18.000000       0.000000   \n",
       "50%              2016-05-18 00:00:00      37.000000       0.000000   \n",
       "75%              2016-05-31 00:00:00      55.000000       0.000000   \n",
       "max              2016-06-08 00:00:00     100.000000       1.000000   \n",
       "std                              NaN      23.103165       0.297684   \n",
       "\n",
       "        hypertension       diabetes     alcoholism       handicap  \\\n",
       "count  110519.000000  110519.000000  110519.000000  110519.000000   \n",
       "mean        0.197251       0.071870       0.030402       0.020241   \n",
       "min         0.000000       0.000000       0.000000       0.000000   \n",
       "25%         0.000000       0.000000       0.000000       0.000000   \n",
       "50%         0.000000       0.000000       0.000000       0.000000   \n",
       "75%         0.000000       0.000000       0.000000       0.000000   \n",
       "max         1.000000       1.000000       1.000000       1.000000   \n",
       "std         0.397925       0.258274       0.171692       0.140824   \n",
       "\n",
       "        sms_received  \n",
       "count  110519.000000  \n",
       "mean        0.321040  \n",
       "min         0.000000  \n",
       "25%         0.000000  \n",
       "50%         0.000000  \n",
       "75%         1.000000  \n",
       "max         1.000000  \n",
       "std         0.466878  "
      ]
     },
     "execution_count": 36,
     "metadata": {},
     "output_type": "execute_result"
    }
   ],
   "source": [
    "df.describe()"
   ]
  },
  {
   "cell_type": "code",
   "execution_count": 39,
   "id": "45429ff4-a9a3-4538-9c32-5df125894d65",
   "metadata": {},
   "outputs": [],
   "source": [
    "# To make a clean file for use \n",
    "df.to_csv('cleaned_medical_appointments.csv', index=False)\n"
   ]
  },
  {
   "cell_type": "code",
   "execution_count": null,
   "id": "c53e9089-3899-4460-b90e-afb3097985dd",
   "metadata": {},
   "outputs": [],
   "source": []
  }
 ],
 "metadata": {
  "kernelspec": {
   "display_name": "Python 3 (ipykernel)",
   "language": "python",
   "name": "python3"
  },
  "language_info": {
   "codemirror_mode": {
    "name": "ipython",
    "version": 3
   },
   "file_extension": ".py",
   "mimetype": "text/x-python",
   "name": "python",
   "nbconvert_exporter": "python",
   "pygments_lexer": "ipython3",
   "version": "3.13.5"
  }
 },
 "nbformat": 4,
 "nbformat_minor": 5
}
